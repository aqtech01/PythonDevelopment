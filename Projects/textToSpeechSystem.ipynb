{
 "cells": [
  {
   "cell_type": "code",
   "execution_count": 1,
   "id": "52518bc5",
   "metadata": {},
   "outputs": [
    {
     "name": "stdout",
     "output_type": "stream",
     "text": [
      "Requirement already satisfied: deepgram-sdk in c:\\users\\qadeer\\anaconda3\\lib\\site-packages (3.0.0)\n",
      "Requirement already satisfied: requests in c:\\users\\qadeer\\anaconda3\\lib\\site-packages (2.31.0)\n",
      "Requirement already satisfied: ffmpeg-python in c:\\users\\qadeer\\anaconda3\\lib\\site-packages (0.2.0)\n",
      "Requirement already satisfied: httpx in c:\\users\\qadeer\\anaconda3\\lib\\site-packages (from deepgram-sdk) (0.26.0)\n",
      "Requirement already satisfied: websockets in c:\\users\\qadeer\\anaconda3\\lib\\site-packages (from deepgram-sdk) (12.0)\n",
      "Requirement already satisfied: dataclasses-json in c:\\users\\qadeer\\anaconda3\\lib\\site-packages (from deepgram-sdk) (0.6.3)\n",
      "Requirement already satisfied: typing-extensions in c:\\users\\qadeer\\anaconda3\\lib\\site-packages (from deepgram-sdk) (4.7.1)\n",
      "Requirement already satisfied: python-dotenv in c:\\users\\qadeer\\anaconda3\\lib\\site-packages (from deepgram-sdk) (0.21.0)\n",
      "Requirement already satisfied: asyncio in c:\\users\\qadeer\\anaconda3\\lib\\site-packages (from deepgram-sdk) (3.4.3)\n",
      "Requirement already satisfied: aiohttp in c:\\users\\qadeer\\anaconda3\\lib\\site-packages (from deepgram-sdk) (3.8.5)\n",
      "Requirement already satisfied: verboselogs in c:\\users\\qadeer\\anaconda3\\lib\\site-packages (from deepgram-sdk) (1.7)\n",
      "Requirement already satisfied: charset-normalizer<4,>=2 in c:\\users\\qadeer\\anaconda3\\lib\\site-packages (from requests) (2.0.4)\n",
      "Requirement already satisfied: idna<4,>=2.5 in c:\\users\\qadeer\\anaconda3\\lib\\site-packages (from requests) (3.4)\n",
      "Requirement already satisfied: urllib3<3,>=1.21.1 in c:\\users\\qadeer\\anaconda3\\lib\\site-packages (from requests) (1.26.16)\n",
      "Requirement already satisfied: certifi>=2017.4.17 in c:\\users\\qadeer\\anaconda3\\lib\\site-packages (from requests) (2023.11.17)\n",
      "Requirement already satisfied: future in c:\\users\\qadeer\\anaconda3\\lib\\site-packages (from ffmpeg-python) (0.18.3)\n",
      "Requirement already satisfied: attrs>=17.3.0 in c:\\users\\qadeer\\anaconda3\\lib\\site-packages (from aiohttp->deepgram-sdk) (22.1.0)\n",
      "Requirement already satisfied: multidict<7.0,>=4.5 in c:\\users\\qadeer\\anaconda3\\lib\\site-packages (from aiohttp->deepgram-sdk) (6.0.2)\n",
      "Requirement already satisfied: async-timeout<5.0,>=4.0.0a3 in c:\\users\\qadeer\\anaconda3\\lib\\site-packages (from aiohttp->deepgram-sdk) (4.0.2)\n",
      "Requirement already satisfied: yarl<2.0,>=1.0 in c:\\users\\qadeer\\anaconda3\\lib\\site-packages (from aiohttp->deepgram-sdk) (1.8.1)\n",
      "Requirement already satisfied: frozenlist>=1.1.1 in c:\\users\\qadeer\\anaconda3\\lib\\site-packages (from aiohttp->deepgram-sdk) (1.3.3)\n",
      "Requirement already satisfied: aiosignal>=1.1.2 in c:\\users\\qadeer\\anaconda3\\lib\\site-packages (from aiohttp->deepgram-sdk) (1.2.0)\n",
      "Requirement already satisfied: marshmallow<4.0.0,>=3.18.0 in c:\\users\\qadeer\\anaconda3\\lib\\site-packages (from dataclasses-json->deepgram-sdk) (3.20.1)\n",
      "Requirement already satisfied: typing-inspect<1,>=0.4.0 in c:\\users\\qadeer\\anaconda3\\lib\\site-packages (from dataclasses-json->deepgram-sdk) (0.9.0)\n",
      "Requirement already satisfied: anyio in c:\\users\\qadeer\\anaconda3\\lib\\site-packages (from httpx->deepgram-sdk) (3.5.0)\n",
      "Requirement already satisfied: httpcore==1.* in c:\\users\\qadeer\\anaconda3\\lib\\site-packages (from httpx->deepgram-sdk) (1.0.2)\n",
      "Requirement already satisfied: sniffio in c:\\users\\qadeer\\anaconda3\\lib\\site-packages (from httpx->deepgram-sdk) (1.2.0)\n",
      "Requirement already satisfied: h11<0.15,>=0.13 in c:\\users\\qadeer\\anaconda3\\lib\\site-packages (from httpcore==1.*->httpx->deepgram-sdk) (0.14.0)\n",
      "Requirement already satisfied: packaging>=17.0 in c:\\users\\qadeer\\anaconda3\\lib\\site-packages (from marshmallow<4.0.0,>=3.18.0->dataclasses-json->deepgram-sdk) (23.1)\n",
      "Requirement already satisfied: mypy-extensions>=0.3.0 in c:\\users\\qadeer\\anaconda3\\lib\\site-packages (from typing-inspect<1,>=0.4.0->dataclasses-json->deepgram-sdk) (1.0.0)\n"
     ]
    }
   ],
   "source": [
    "!pip install deepgram-sdk requests ffmpeg-python\n"
   ]
  },
  {
   "cell_type": "code",
   "execution_count": 2,
   "id": "2633f4ca",
   "metadata": {},
   "outputs": [
    {
     "ename": "ImportError",
     "evalue": "cannot import name 'Deepgram' from 'deepgram' (C:\\Users\\Qadeer\\anaconda3\\Lib\\site-packages\\deepgram\\__init__.py)",
     "output_type": "error",
     "traceback": [
      "\u001b[1;31m---------------------------------------------------------------------------\u001b[0m",
      "\u001b[1;31mImportError\u001b[0m                               Traceback (most recent call last)",
      "Cell \u001b[1;32mIn[2], line 2\u001b[0m\n\u001b[0;32m      1\u001b[0m \u001b[38;5;28;01mimport\u001b[39;00m \u001b[38;5;21;01mjson\u001b[39;00m\n\u001b[1;32m----> 2\u001b[0m \u001b[38;5;28;01mfrom\u001b[39;00m \u001b[38;5;21;01mdeepgram\u001b[39;00m \u001b[38;5;28;01mimport\u001b[39;00m Deepgram\n\u001b[0;32m      4\u001b[0m aqtech_key \u001b[38;5;241m=\u001b[39m \u001b[38;5;124m'\u001b[39m\u001b[38;5;124m451f44405c092066af728314d20faa0c29746025\u001b[39m\u001b[38;5;124m'\u001b[39m\n\u001b[0;32m      5\u001b[0m ky \u001b[38;5;241m=\u001b[39m Deepgram(aqtech_key)\n",
      "\u001b[1;31mImportError\u001b[0m: cannot import name 'Deepgram' from 'deepgram' (C:\\Users\\Qadeer\\anaconda3\\Lib\\site-packages\\deepgram\\__init__.py)"
     ]
    }
   ],
   "source": [
    "import json\n",
    "from deepgram import Deepgram\n",
    "\n",
    "aqtech_key = '451f44405c092066af728314d20faa0c29746025'\n",
    "ky = Deepgram(aqtech_key)\n",
    "\n",
    "my_type = 'mp3'\n",
    "file = '/content/sample_data/yt1s.com - Video Not Available.mp3'\n",
    "\n",
    "options = {\n",
    "    \"punctuate\": True,\n",
    "    \"model\": 'general',\n",
    "    \"data\": 'advance'\n",
    "}\n",
    "\n",
    "\n",
    "def main():\n",
    "    audio_file = file\n",
    "    if audio_file.endswith(my_type):\n",
    "        with open(audio_file, \"rb\") as f:\n",
    "            source = {'buffer': f.read(), \"type\": 'audio/' + my_type}\n",
    "            res = ky.transcription.sync_prerecorded(source, options)\n",
    "            with open(f\"{audio_file[:-4]}.json\", \"w\") as transcript:\n",
    "                json.dump(res, transcript)\n",
    "\n",
    "\n",
    "if __name__ == \"__main__\":\n",
    "    main()\n"
   ]
  }
 ],
 "metadata": {
  "kernelspec": {
   "display_name": "Python 3 (ipykernel)",
   "language": "python",
   "name": "python3"
  },
  "language_info": {
   "codemirror_mode": {
    "name": "ipython",
    "version": 3
   },
   "file_extension": ".py",
   "mimetype": "text/x-python",
   "name": "python",
   "nbconvert_exporter": "python",
   "pygments_lexer": "ipython3",
   "version": "3.11.5"
  }
 },
 "nbformat": 4,
 "nbformat_minor": 5
}
