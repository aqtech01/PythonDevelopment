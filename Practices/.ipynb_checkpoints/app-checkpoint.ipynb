{
 "cells": [
  {
   "cell_type": "markdown",
   "id": "854d111d",
   "metadata": {},
   "source": [
    "### String Litterals"
   ]
  },
  {
   "cell_type": "code",
   "execution_count": 8,
   "id": "6e5a2884",
   "metadata": {},
   "outputs": [
    {
     "name": "stdout",
     "output_type": "stream",
     "text": [
      "This is Sparta\n",
      "This is Python\n",
      "C\n",
      "\n",
      "This is multiline String \n",
      "\n",
      "😀\n",
      "\\n string\n"
     ]
    }
   ],
   "source": [
    "string=\"This is Sparta\"\n",
    "strings='This is Python'\n",
    "char = 'C'\n",
    "multiline_str='''\n",
    "This is multiline String \n",
    "'''\n",
    "unicode=u'\\U0001f600'\n",
    "raw_str=r'\\n string'\n",
    "\n",
    "print(string)\n",
    "print(strings)\n",
    "print(char)\n",
    "print(multiline_str)\n",
    "print(unicode)\n",
    "print(raw_str)"
   ]
  },
  {
   "cell_type": "markdown",
   "id": "b8da240a",
   "metadata": {},
   "source": [
    "## Operators\n",
    "        . Arithmatic \n",
    "        . Comaprison \n",
    "        . Logical \n",
    "        . Bitwise\n",
    "        . Assignment \n",
    "        . Identity\n",
    "        . Membership "
   ]
  },
  {
   "cell_type": "code",
   "execution_count": 15,
   "id": "5f42ae46",
   "metadata": {},
   "outputs": [
    {
     "name": "stdout",
     "output_type": "stream",
     "text": [
      "25\n",
      "-15\n",
      "100\n",
      "0.25\n",
      "5\n",
      "95367431640625\n",
      "0\n"
     ]
    }
   ],
   "source": [
    "## Arithmatic Operator\n",
    "x=5\n",
    "y=20\n",
    "print(x+y) \n",
    "print(x-y)   \n",
    "print(x*y)   \n",
    "print(x/y)    \n",
    "print(x%y)   \n",
    "print(x**y)  \n",
    "print(x//y)"
   ]
  },
  {
   "cell_type": "code",
   "execution_count": 19,
   "id": "84075304",
   "metadata": {},
   "outputs": [
    {
     "name": "stdout",
     "output_type": "stream",
     "text": [
      "True\n",
      "False\n",
      "True\n",
      "False\n",
      "True\n",
      "False\n"
     ]
    }
   ],
   "source": [
    "# Comapriosn Operator\n",
    "# <,>,==,<=,>= !=\n",
    "x=True\n",
    "y= False\n",
    "print(x>y)\n",
    "print(x<y)\n",
    "print(x>=y)\n",
    "print(x<=y)\n",
    "print(x!=y)\n",
    "print(x==y)"
   ]
  },
  {
   "cell_type": "code",
   "execution_count": 21,
   "id": "76b048da",
   "metadata": {},
   "outputs": [
    {
     "name": "stdout",
     "output_type": "stream",
     "text": [
      "False\n",
      "True\n",
      "True\n"
     ]
    }
   ],
   "source": [
    "# Logical Operator\n",
    "# And \n",
    "# or\n",
    "# not\n",
    "x=True\n",
    "y= False\n",
    "print(x and y)\n",
    "print(x or y)\n",
    "print(not y)"
   ]
  },
  {
   "cell_type": "code",
   "execution_count": 22,
   "id": "c6e4c429",
   "metadata": {},
   "outputs": [],
   "source": [
    "# BitWise\n",
    "# &, |, >>,<<,~"
   ]
  },
  {
   "cell_type": "code",
   "execution_count": 23,
   "id": "67bfd983",
   "metadata": {},
   "outputs": [],
   "source": [
    "# Assignment Operator\n",
    "# =,+=,-=,*=,/="
   ]
  },
  {
   "cell_type": "code",
   "execution_count": 24,
   "id": "c448184b",
   "metadata": {},
   "outputs": [],
   "source": [
    "# Identity Operator\n",
    "# is, is not\n"
   ]
  },
  {
   "cell_type": "code",
   "execution_count": 25,
   "id": "b04f6f28",
   "metadata": {},
   "outputs": [],
   "source": [
    "# Membership Operator\n",
    "# in, not in"
   ]
  },
  {
   "cell_type": "code",
   "execution_count": null,
   "id": "4592f028",
   "metadata": {},
   "outputs": [],
   "source": [
    "# If Else Statement \n",
    "email=input('Enter Your Email')\n",
    "password=input('Enter Your password')\n",
    "if email=='campusx@gmail.com'and password=='1234':\n",
    "    print('Welcome')\n",
    "else:\n",
    "    print('Password or emaail incorect')\n",
    "    "
   ]
  }
 ],
 "metadata": {
  "kernelspec": {
   "display_name": "Python 3 (ipykernel)",
   "language": "python",
   "name": "python3"
  },
  "language_info": {
   "codemirror_mode": {
    "name": "ipython",
    "version": 3
   },
   "file_extension": ".py",
   "mimetype": "text/x-python",
   "name": "python",
   "nbconvert_exporter": "python",
   "pygments_lexer": "ipython3",
   "version": "3.9.13"
  }
 },
 "nbformat": 4,
 "nbformat_minor": 5
}
