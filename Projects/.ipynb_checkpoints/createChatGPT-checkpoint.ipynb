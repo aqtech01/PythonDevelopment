{
 "cells": [
  {
   "cell_type": "code",
   "execution_count": null,
   "id": "07e5ce2c",
   "metadata": {},
   "outputs": [
    {
     "name": "stdout",
     "output_type": "stream",
     "text": [
      "Hi ! I am Dr \n",
      ">ww\n",
      "None\n",
      ">ee\n",
      "None\n"
     ]
    }
   ],
   "source": [
    "# Own Chat GPT \n",
    "import nltk    # natural language programing \n",
    "from nltk.chat.util import Chat, reflections\n",
    "reflections= {\n",
    "    \"I am \":\"You are \",\n",
    "    \"I was \":\"You were \",\n",
    "    \"I \" :\"you\",\n",
    "    \"my\":\"your\"\n",
    "\n",
    "\n",
    "}\n",
    "pairs=[\n",
    "    [\n",
    "    r\"my name is(.*)\",\n",
    "    [\"hello %1, How are you today ?\",]\n",
    "\n",
    "],\n",
    "[r\"hi|hello|hey\",\n",
    " [\"hello\",\"hey there\",]\n",
    " ],\n",
    "]\n",
    "def chat():\n",
    "  print(\"Hi ! I am Dr \")\n",
    "  chat = Chat(pairs,reflections)\n",
    "  chat.converse()\n",
    "if __name__== \"__main__\":\n",
    "  chat()\n",
    "   "
   ]
  },
  {
   "cell_type": "code",
   "execution_count": null,
   "id": "dbfb15fc",
   "metadata": {},
   "outputs": [],
   "source": []
  }
 ],
 "metadata": {
  "kernelspec": {
   "display_name": "Python 3 (ipykernel)",
   "language": "python",
   "name": "python3"
  },
  "language_info": {
   "codemirror_mode": {
    "name": "ipython",
    "version": 3
   },
   "file_extension": ".py",
   "mimetype": "text/x-python",
   "name": "python",
   "nbconvert_exporter": "python",
   "pygments_lexer": "ipython3",
   "version": "3.11.5"
  }
 },
 "nbformat": 4,
 "nbformat_minor": 5
}
